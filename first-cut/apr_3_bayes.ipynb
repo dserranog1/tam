{
  "nbformat": 4,
  "nbformat_minor": 0,
  "metadata": {
    "colab": {
      "provenance": []
    },
    "kernelspec": {
      "name": "python3",
      "display_name": "Python 3"
    },
    "language_info": {
      "name": "python"
    }
  },
  "cells": [
    {
      "cell_type": "markdown",
      "source": [
        "## ChatGPT o3-mini-high\n",
        "### Prompt\n",
        "> I am learning a bit of probability and I've been given the task to code the exercises we just did by hand.\n",
        "The exercise reads as follows:\n",
        "Given a blue (b) and a red (r) box (B) , each with fruits (F), oranges (o) and apples (a) in different quantites.\n",
        "Now, the blue box has: 3 apples and 1 orange.\n",
        "The red box has: 6 oranges and 2 apples.\n",
        "Now, we have also been given P(B=r)=0.4, P(B=b)=0.6. We need to calculate P(B=r|F=o), P(B=b | F=o), P(B=r | F=a), P(B=b | F=a) for this, we will also need P(F=a) and P(F=o). We have been doing using the basic sum and product rules and Bayes theorem. Help create a python script that does this. The code should be modular and scalable, keeping in mind that in the future we can have more boxes and more kind of fruits. Be clear and divide the code in functions that only do one thing at a time. Follow best practices and try to minimize the usage of libraries in concepts I am trying to learn."
      ],
      "metadata": {
        "id": "1bX9YPnyU42i"
      }
    },
    {
      "cell_type": "code",
      "execution_count": 1,
      "metadata": {
        "id": "kwYJbQbJQk0u",
        "colab": {
          "base_uri": "https://localhost:8080/"
        },
        "outputId": "b36e7b89-7491-4e98-c1d6-ebc1ece83502"
      },
      "outputs": [
        {
          "output_type": "stream",
          "name": "stdout",
          "text": [
            "P(F=a) = 0.5500\n",
            "P(F=o) = 0.4500\n",
            "\n",
            "P(B=b|F=a) = 0.8182\n",
            "P(B=r|F=a) = 0.1818\n",
            "P(B=b|F=o) = 0.3333\n",
            "P(B=r|F=o) = 0.6667\n"
          ]
        }
      ],
      "source": [
        "def get_total_fruits(box):\n",
        "    \"\"\"\n",
        "    Returns the total number of fruits in the box.\n",
        "\n",
        "    Parameters:\n",
        "    box (dict): A dictionary with a key 'contents' where fruit counts are stored.\n",
        "    \"\"\"\n",
        "    return sum(box['contents'].values())\n",
        "\n",
        "def probability_fruit_given_box(box, fruit):\n",
        "    \"\"\"\n",
        "    Calculates P(Fruit|Box) as the ratio of the number of that fruit in the box\n",
        "    to the total number of fruits in the box.\n",
        "\n",
        "    Parameters:\n",
        "    box (dict): A dictionary containing the box information.\n",
        "    fruit (str): The fruit type (e.g., 'a' for apple, 'o' for orange).\n",
        "\n",
        "    Returns:\n",
        "    float: The probability of drawing the given fruit from the box.\n",
        "    \"\"\"\n",
        "    total = get_total_fruits(box)\n",
        "    if total == 0:\n",
        "        return 0\n",
        "    return box['contents'].get(fruit, 0) / total\n",
        "\n",
        "def overall_probability_fruit(fruit, boxes):\n",
        "    \"\"\"\n",
        "    Uses the law of total probability to calculate P(Fruit).\n",
        "\n",
        "    Parameters:\n",
        "    fruit (str): The fruit type.\n",
        "    boxes (dict): Dictionary where keys are box names and values are box info.\n",
        "\n",
        "    Returns:\n",
        "    float: Overall probability of drawing the given fruit.\n",
        "    \"\"\"\n",
        "    probability = 0\n",
        "    for box in boxes.values():\n",
        "        probability += box['prob'] * probability_fruit_given_box(box, fruit)\n",
        "    return probability\n",
        "\n",
        "def bayes(box_key, fruit, boxes):\n",
        "    \"\"\"\n",
        "    Applies Bayes' theorem to compute P(Box|Fruit).\n",
        "\n",
        "    Parameters:\n",
        "    box_key (str): The key of the box in the boxes dictionary.\n",
        "    fruit (str): The observed fruit.\n",
        "    boxes (dict): Dictionary of boxes with their probability and contents.\n",
        "\n",
        "    Returns:\n",
        "    float: The posterior probability that the fruit came from the specified box.\n",
        "    \"\"\"\n",
        "    p_fruit = overall_probability_fruit(fruit, boxes)\n",
        "    if p_fruit == 0:\n",
        "        return 0\n",
        "    box = boxes[box_key]\n",
        "    return (box['prob'] * probability_fruit_given_box(box, fruit)) / p_fruit\n",
        "\n",
        "def main():\n",
        "    # Define the boxes with their prior probabilities and fruit counts.\n",
        "    # 'b' stands for blue and 'r' for red.\n",
        "    boxes = {\n",
        "        'b': {\n",
        "            'prob': 0.6,  # P(B=b)\n",
        "            'contents': {'a': 3, 'o': 1}  # 3 apples, 1 orange\n",
        "        },\n",
        "        'r': {\n",
        "            'prob': 0.4,  # P(B=r)\n",
        "            'contents': {'a': 2, 'o': 6}  # 2 apples, 6 oranges\n",
        "        }\n",
        "    }\n",
        "\n",
        "    # Define the fruits we are interested in.\n",
        "    fruits = ['a', 'o']  # 'a' for apples, 'o' for oranges\n",
        "\n",
        "    # Calculate and print overall probabilities for each fruit.\n",
        "    for fruit in fruits:\n",
        "        p_fruit = overall_probability_fruit(fruit, boxes)\n",
        "        print(f\"P(F={fruit}) = {p_fruit:.4f}\")\n",
        "\n",
        "    print()  # Blank line for readability\n",
        "\n",
        "    # Calculate and print the posterior probabilities for each box given the fruit.\n",
        "    for fruit in fruits:\n",
        "        for box_key in boxes.keys():\n",
        "            posterior = bayes(box_key, fruit, boxes)\n",
        "            print(f\"P(B={box_key}|F={fruit}) = {posterior:.4f}\")\n",
        "\n",
        "if __name__ == \"__main__\":\n",
        "    main()\n"
      ]
    },
    {
      "cell_type": "markdown",
      "source": [
        "### Now with more fruits and boxes"
      ],
      "metadata": {
        "id": "1iXbqFs8XzMR"
      }
    },
    {
      "cell_type": "code",
      "source": [
        "def main():\n",
        "    boxes = {\n",
        "        'b': {\n",
        "            'prob': 0.5,  # P(B=b)\n",
        "            'contents': {'a': 3, 'o': 1, 'c': 3}  # 3 apples, 1 orange, 3 cherries\n",
        "        },\n",
        "        'r': {\n",
        "            'prob': 0.3,  # P(B=r)\n",
        "            'contents': {'a': 2, 'o': 6, 'c': 4}  # 2 apples, 6 oranges, 4 cherries\n",
        "        },\n",
        "        'g': {\n",
        "            'prob': 0.2,  # P(B=g)\n",
        "            'contents': {'a': 1, 'o': 3, 'c': 5}  # 1 apple, 3 oranges, 5 cherries\n",
        "        },\n",
        "    }\n",
        "\n",
        "    # Define the fruits we are interested in.\n",
        "    fruits = ['a', 'o', 'c']\n",
        "\n",
        "    # Calculate and print overall probabilities for each fruit.\n",
        "    for fruit in fruits:\n",
        "        p_fruit = overall_probability_fruit(fruit, boxes)\n",
        "        print(f\"P(F={fruit}) = {p_fruit:.4f}\")\n",
        "\n",
        "    # Calculate and print the posterior probabilities for each box given the fruit.\n",
        "    for fruit in fruits:\n",
        "        for box_key in boxes.keys():\n",
        "            posterior = bayes(box_key, fruit, boxes)\n",
        "            print(f\"P(B={box_key}|F={fruit}) = {posterior:.4f}\")\n",
        "\n",
        "if __name__ == \"__main__\":\n",
        "    main()\n"
      ],
      "metadata": {
        "colab": {
          "base_uri": "https://localhost:8080/"
        },
        "id": "GMmnzQkJXyjE",
        "outputId": "5f8c687c-1802-42e5-a949-fbc461596779"
      },
      "execution_count": 3,
      "outputs": [
        {
          "output_type": "stream",
          "name": "stdout",
          "text": [
            "P(F=a) = 0.2865\n",
            "P(F=o) = 0.2881\n",
            "P(F=c) = 0.4254\n",
            "P(B=b|F=a) = 0.7479\n",
            "P(B=r|F=a) = 0.1745\n",
            "P(B=g|F=a) = 0.0776\n",
            "P(B=b|F=o) = 0.2479\n",
            "P(B=r|F=o) = 0.5207\n",
            "P(B=g|F=o) = 0.2314\n",
            "P(B=b|F=c) = 0.5037\n",
            "P(B=r|F=c) = 0.2351\n",
            "P(B=g|F=c) = 0.2612\n"
          ]
        }
      ]
    }
  ]
}